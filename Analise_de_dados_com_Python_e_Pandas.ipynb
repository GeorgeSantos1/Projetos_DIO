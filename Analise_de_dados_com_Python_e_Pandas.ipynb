{
  "nbformat": 4,
  "nbformat_minor": 0,
  "metadata": {
    "colab": {
      "name": "Untitled7.ipynb",
      "provenance": [],
      "collapsed_sections": []
    },
    "kernelspec": {
      "name": "python3",
      "display_name": "Python 3"
    },
    "language_info": {
      "name": "python"
    }
  },
  "cells": [
    {
      "cell_type": "markdown",
      "metadata": {
        "id": "6UTRDohUW_Tn"
      },
      "source": [
        "# Análise de dados com Python e Pandas\n",
        "\n"
      ]
    },
    {
      "cell_type": "markdown",
      "metadata": {
        "id": "QWTXPQwIXUG1"
      },
      "source": [
        "### Descrição"
      ]
    },
    {
      "cell_type": "markdown",
      "metadata": {
        "id": "wa-TrQ1EXGNO"
      },
      "source": [
        "Projeto prático do Bootcamp **Banco Carrefour Data Engineer**, realizado em parceria com a **Digital Innovation One**."
      ]
    },
    {
      "cell_type": "markdown",
      "metadata": {
        "id": "sur_59wqXW1E"
      },
      "source": [
        "### Base utilizada\n",
        "\n",
        "Para enfrentar o surto de COVID-19 em curso, os países estão lutando juntos vacinando os cidadãos. O conjunto de dados contém os dados de vacinação fornecidos pela OMS (por país). A base de dados utilizada pode ser encontrada no kaggle (https://www.kaggle.com/umeshkumar017/vaccination-data#)."
      ]
    },
    {
      "cell_type": "markdown",
      "metadata": {
        "id": "QbeD4Z6KXann"
      },
      "source": [
        "### Análise dos dados"
      ]
    },
    {
      "cell_type": "code",
      "metadata": {
        "id": "P_GfFHQ2bQfr"
      },
      "source": [
        "# Importando pacotes\n",
        "import pandas as pd\n",
        "import seaborn as sns\n",
        "import matplotlib.pyplot as plt\n",
        "import matplotlib.style as style\n",
        "\n",
        "style.use('fivethirtyeight')"
      ],
      "execution_count": 114,
      "outputs": []
    },
    {
      "cell_type": "code",
      "metadata": {
        "id": "RlDCShejbc3W"
      },
      "source": [
        "# Importando pacotes\n",
        "df = pd.read_csv(\"https://raw.githubusercontent.com/GeorgeSantos1/Datasets_Kaggle/main/vaccination-data(26-08-2021).csv\")"
      ],
      "execution_count": 115,
      "outputs": []
    },
    {
      "cell_type": "code",
      "metadata": {
        "colab": {
          "base_uri": "https://localhost:8080/",
          "height": 479
        },
        "id": "aU5ouj9RwPKo",
        "outputId": "496b6af5-b93f-438d-9b41-1d6b2d77f784"
      },
      "source": [
        "# Visualizando base\n",
        "df.head()"
      ],
      "execution_count": 116,
      "outputs": [
        {
          "output_type": "execute_result",
          "data": {
            "text/html": [
              "<div>\n",
              "<style scoped>\n",
              "    .dataframe tbody tr th:only-of-type {\n",
              "        vertical-align: middle;\n",
              "    }\n",
              "\n",
              "    .dataframe tbody tr th {\n",
              "        vertical-align: top;\n",
              "    }\n",
              "\n",
              "    .dataframe thead th {\n",
              "        text-align: right;\n",
              "    }\n",
              "</style>\n",
              "<table border=\"1\" class=\"dataframe\">\n",
              "  <thead>\n",
              "    <tr style=\"text-align: right;\">\n",
              "      <th></th>\n",
              "      <th>COUNTRY</th>\n",
              "      <th>ISO3</th>\n",
              "      <th>WHO_REGION</th>\n",
              "      <th>DATA_SOURCE</th>\n",
              "      <th>DATE_UPDATED</th>\n",
              "      <th>TOTAL_VACCINATIONS</th>\n",
              "      <th>PERSONS_VACCINATED_1PLUS_DOSE</th>\n",
              "      <th>TOTAL_VACCINATIONS_PER100</th>\n",
              "      <th>PERSONS_VACCINATED_1PLUS_DOSE_PER100</th>\n",
              "      <th>PERSONS_FULLY_VACCINATED</th>\n",
              "      <th>PERSONS_FULLY_VACCINATED_PER100</th>\n",
              "      <th>VACCINES_USED</th>\n",
              "      <th>FIRST_VACCINE_DATE</th>\n",
              "      <th>NUMBER_VACCINES_TYPES_USED</th>\n",
              "    </tr>\n",
              "  </thead>\n",
              "  <tbody>\n",
              "    <tr>\n",
              "      <th>0</th>\n",
              "      <td>Afghanistan</td>\n",
              "      <td>AFG</td>\n",
              "      <td>EMRO</td>\n",
              "      <td>REPORTING</td>\n",
              "      <td>2021-08-20</td>\n",
              "      <td>1201286.00</td>\n",
              "      <td>770542.00</td>\n",
              "      <td>3.09</td>\n",
              "      <td>1.98</td>\n",
              "      <td>430744.00</td>\n",
              "      <td>1.11</td>\n",
              "      <td>Beijing CNBG - BBIBP-CorV,Janssen - Ad26.COV 2...</td>\n",
              "      <td>2021-02-22</td>\n",
              "      <td>4.00</td>\n",
              "    </tr>\n",
              "    <tr>\n",
              "      <th>1</th>\n",
              "      <td>Albania</td>\n",
              "      <td>ALB</td>\n",
              "      <td>EURO</td>\n",
              "      <td>OWID</td>\n",
              "      <td>2021-08-17</td>\n",
              "      <td>1340339.00</td>\n",
              "      <td>764997.00</td>\n",
              "      <td>46.58</td>\n",
              "      <td>26.58</td>\n",
              "      <td>575342.00</td>\n",
              "      <td>19.99</td>\n",
              "      <td>AstraZeneca - AZD1222, Pfizer BioNTech - Comir...</td>\n",
              "      <td>NaN</td>\n",
              "      <td>4.00</td>\n",
              "    </tr>\n",
              "    <tr>\n",
              "      <th>2</th>\n",
              "      <td>Algeria</td>\n",
              "      <td>DZA</td>\n",
              "      <td>AFRO</td>\n",
              "      <td>REPORTING</td>\n",
              "      <td>2021-08-23</td>\n",
              "      <td>4146091.00</td>\n",
              "      <td>3421279.00</td>\n",
              "      <td>9.46</td>\n",
              "      <td>7.80</td>\n",
              "      <td>724812.00</td>\n",
              "      <td>1.65</td>\n",
              "      <td>Beijing CNBG - BBIBP-CorV,Gamaleya - Sputnik V...</td>\n",
              "      <td>2021-01-30</td>\n",
              "      <td>3.00</td>\n",
              "    </tr>\n",
              "    <tr>\n",
              "      <th>3</th>\n",
              "      <td>American Samoa</td>\n",
              "      <td>ASM</td>\n",
              "      <td>WPRO</td>\n",
              "      <td>REPORTING</td>\n",
              "      <td>2021-08-09</td>\n",
              "      <td>52769.00</td>\n",
              "      <td>29210.00</td>\n",
              "      <td>95.60</td>\n",
              "      <td>52.92</td>\n",
              "      <td>24104.00</td>\n",
              "      <td>43.67</td>\n",
              "      <td>Janssen - Ad26.COV 2.5,Moderna - mRNA-1273,Pfi...</td>\n",
              "      <td>2020-12-21</td>\n",
              "      <td>3.00</td>\n",
              "    </tr>\n",
              "    <tr>\n",
              "      <th>4</th>\n",
              "      <td>Andorra</td>\n",
              "      <td>AND</td>\n",
              "      <td>EURO</td>\n",
              "      <td>OWID</td>\n",
              "      <td>2021-08-15</td>\n",
              "      <td>91660.00</td>\n",
              "      <td>51044.00</td>\n",
              "      <td>118.63</td>\n",
              "      <td>66.06</td>\n",
              "      <td>40616.00</td>\n",
              "      <td>52.57</td>\n",
              "      <td>AstraZeneca - AZD1222, Pfizer BioNTech - Comir...</td>\n",
              "      <td>NaN</td>\n",
              "      <td>2.00</td>\n",
              "    </tr>\n",
              "  </tbody>\n",
              "</table>\n",
              "</div>"
            ],
            "text/plain": [
              "          COUNTRY ISO3  ... FIRST_VACCINE_DATE NUMBER_VACCINES_TYPES_USED\n",
              "0     Afghanistan  AFG  ...         2021-02-22                       4.00\n",
              "1         Albania  ALB  ...                NaN                       4.00\n",
              "2         Algeria  DZA  ...         2021-01-30                       3.00\n",
              "3  American Samoa  ASM  ...         2020-12-21                       3.00\n",
              "4         Andorra  AND  ...                NaN                       2.00\n",
              "\n",
              "[5 rows x 14 columns]"
            ]
          },
          "metadata": {},
          "execution_count": 116
        }
      ]
    },
    {
      "cell_type": "code",
      "metadata": {
        "colab": {
          "base_uri": "https://localhost:8080/",
          "height": 235
        },
        "id": "x94w0jzgyY5r",
        "outputId": "edff62f9-c05e-4f48-eb46-4b6bd9c0d1a6"
      },
      "source": [
        "# Função Primeiro Quartil (25%)\n",
        "def q1(x):\n",
        "    return x.quantile(0.25)\n",
        "\n",
        "# Função Terceiro Quartil (75%)\n",
        "def q3(x):\n",
        "    return x.quantile(0.75)\n",
        "\n",
        "# Descritiva para variáveis de quantitativas\n",
        "df.iloc[:,5:11].agg([\"min\",q1,\"mean\",\"median\",q3,\"max\"]).T"
      ],
      "execution_count": 117,
      "outputs": [
        {
          "output_type": "execute_result",
          "data": {
            "text/html": [
              "<div>\n",
              "<style scoped>\n",
              "    .dataframe tbody tr th:only-of-type {\n",
              "        vertical-align: middle;\n",
              "    }\n",
              "\n",
              "    .dataframe tbody tr th {\n",
              "        vertical-align: top;\n",
              "    }\n",
              "\n",
              "    .dataframe thead th {\n",
              "        text-align: right;\n",
              "    }\n",
              "</style>\n",
              "<table border=\"1\" class=\"dataframe\">\n",
              "  <thead>\n",
              "    <tr style=\"text-align: right;\">\n",
              "      <th></th>\n",
              "      <th>min</th>\n",
              "      <th>q1</th>\n",
              "      <th>mean</th>\n",
              "      <th>median</th>\n",
              "      <th>q3</th>\n",
              "      <th>max</th>\n",
              "    </tr>\n",
              "  </thead>\n",
              "  <tbody>\n",
              "    <tr>\n",
              "      <th>TOTAL_VACCINATIONS</th>\n",
              "      <td>73.00</td>\n",
              "      <td>99878.75</td>\n",
              "      <td>20442372.89</td>\n",
              "      <td>898811.00</td>\n",
              "      <td>6258963.00</td>\n",
              "      <td>1776816416.00</td>\n",
              "    </tr>\n",
              "    <tr>\n",
              "      <th>PERSONS_VACCINATED_1PLUS_DOSE</th>\n",
              "      <td>37.00</td>\n",
              "      <td>69330.75</td>\n",
              "      <td>8253954.89</td>\n",
              "      <td>566050.50</td>\n",
              "      <td>3764874.75</td>\n",
              "      <td>435720056.00</td>\n",
              "    </tr>\n",
              "    <tr>\n",
              "      <th>TOTAL_VACCINATIONS_PER100</th>\n",
              "      <td>0.08</td>\n",
              "      <td>13.01</td>\n",
              "      <td>63.13</td>\n",
              "      <td>53.31</td>\n",
              "      <td>109.90</td>\n",
              "      <td>233.21</td>\n",
              "    </tr>\n",
              "    <tr>\n",
              "      <th>PERSONS_VACCINATED_1PLUS_DOSE_PER100</th>\n",
              "      <td>0.07</td>\n",
              "      <td>9.63</td>\n",
              "      <td>35.85</td>\n",
              "      <td>32.59</td>\n",
              "      <td>61.08</td>\n",
              "      <td>116.93</td>\n",
              "    </tr>\n",
              "    <tr>\n",
              "      <th>PERSONS_FULLY_VACCINATED</th>\n",
              "      <td>36.00</td>\n",
              "      <td>33325.00</td>\n",
              "      <td>4889511.04</td>\n",
              "      <td>324729.00</td>\n",
              "      <td>2511654.50</td>\n",
              "      <td>170138563.00</td>\n",
              "    </tr>\n",
              "    <tr>\n",
              "      <th>PERSONS_FULLY_VACCINATED_PER100</th>\n",
              "      <td>0.01</td>\n",
              "      <td>3.70</td>\n",
              "      <td>28.13</td>\n",
              "      <td>22.02</td>\n",
              "      <td>51.62</td>\n",
              "      <td>116.27</td>\n",
              "    </tr>\n",
              "  </tbody>\n",
              "</table>\n",
              "</div>"
            ],
            "text/plain": [
              "                                       min       q1  ...         q3           max\n",
              "TOTAL_VACCINATIONS                   73.00 99878.75  ... 6258963.00 1776816416.00\n",
              "PERSONS_VACCINATED_1PLUS_DOSE        37.00 69330.75  ... 3764874.75  435720056.00\n",
              "TOTAL_VACCINATIONS_PER100             0.08    13.01  ...     109.90        233.21\n",
              "PERSONS_VACCINATED_1PLUS_DOSE_PER100  0.07     9.63  ...      61.08        116.93\n",
              "PERSONS_FULLY_VACCINATED             36.00 33325.00  ... 2511654.50  170138563.00\n",
              "PERSONS_FULLY_VACCINATED_PER100       0.01     3.70  ...      51.62        116.27\n",
              "\n",
              "[6 rows x 6 columns]"
            ]
          },
          "metadata": {},
          "execution_count": 117
        }
      ]
    },
    {
      "cell_type": "code",
      "metadata": {
        "colab": {
          "base_uri": "https://localhost:8080/",
          "height": 440
        },
        "id": "7C_16fdcBxvE",
        "outputId": "e08b51b3-583c-4cd9-a344-c3f6ec25d9b9"
      },
      "source": [
        "# Quantidade de vacinas\n",
        "plt.figure(figsize=[12,6])\n",
        "a1 = sns.countplot(data=df,x=\"NUMBER_VACCINES_TYPES_USED\",alpha = 0.8)\n",
        "plt.title('Nº de vacinas diferentes utilizadas',size=17,weight = 'black')\n",
        "plt.ylabel('Frequência'); plt.xlabel(\"Vacinas diferentes utilizadas\")\n",
        "for p in a1.patches:\n",
        "        a1.annotate('{:.0f}'.format(p.get_height()), (p.get_x()+0.3, p.get_height()+1));"
      ],
      "execution_count": 118,
      "outputs": [
        {
          "output_type": "display_data",
          "data": {
            "image/png": "[encoded data removed]",
            "text/plain": [
              "<Figure size 864x432 with 1 Axes>"
            ]
          },
          "metadata": {}
        }
      ]
    },
    {
      "cell_type": "code",
      "metadata": {
        "colab": {
          "base_uri": "https://localhost:8080/",
          "height": 204
        },
        "id": "Pm45on99PBx6",
        "outputId": "eb6ffe29-0d44-4fc9-8b62-1cdb7b78a6dc"
      },
      "source": [
        "# Top 5 Países com mais vacinações\n",
        "df.loc[:,[\"COUNTRY\",\"TOTAL_VACCINATIONS\"]].sort_values(by=\"TOTAL_VACCINATIONS\",ascending=False).head()"
      ],
      "execution_count": 131,
      "outputs": [
        {
          "output_type": "execute_result",
          "data": {
            "text/html": [
              "<div>\n",
              "<style scoped>\n",
              "    .dataframe tbody tr th:only-of-type {\n",
              "        vertical-align: middle;\n",
              "    }\n",
              "\n",
              "    .dataframe tbody tr th {\n",
              "        vertical-align: top;\n",
              "    }\n",
              "\n",
              "    .dataframe thead th {\n",
              "        text-align: right;\n",
              "    }\n",
              "</style>\n",
              "<table border=\"1\" class=\"dataframe\">\n",
              "  <thead>\n",
              "    <tr style=\"text-align: right;\">\n",
              "      <th></th>\n",
              "      <th>COUNTRY</th>\n",
              "      <th>TOTAL_VACCINATIONS</th>\n",
              "    </tr>\n",
              "  </thead>\n",
              "  <tbody>\n",
              "    <tr>\n",
              "      <th>42</th>\n",
              "      <td>China</td>\n",
              "      <td>1776816416.00</td>\n",
              "    </tr>\n",
              "    <tr>\n",
              "      <th>93</th>\n",
              "      <td>India</td>\n",
              "      <td>560652030.00</td>\n",
              "    </tr>\n",
              "    <tr>\n",
              "      <th>217</th>\n",
              "      <td>United States of America</td>\n",
              "      <td>361192198.00</td>\n",
              "    </tr>\n",
              "    <tr>\n",
              "      <th>29</th>\n",
              "      <td>Brazil</td>\n",
              "      <td>165960369.00</td>\n",
              "    </tr>\n",
              "    <tr>\n",
              "      <th>76</th>\n",
              "      <td>Germany</td>\n",
              "      <td>99340944.00</td>\n",
              "    </tr>\n",
              "  </tbody>\n",
              "</table>\n",
              "</div>"
            ],
            "text/plain": [
              "                      COUNTRY  TOTAL_VACCINATIONS\n",
              "42                      China       1776816416.00\n",
              "93                      India        560652030.00\n",
              "217  United States of America        361192198.00\n",
              "29                     Brazil        165960369.00\n",
              "76                    Germany         99340944.00"
            ]
          },
          "metadata": {},
          "execution_count": 131
        }
      ]
    },
    {
      "cell_type": "code",
      "metadata": {
        "colab": {
          "base_uri": "https://localhost:8080/",
          "height": 204
        },
        "id": "j7nvLYO4QF8x",
        "outputId": "352a3b39-c3d6-4b55-8e02-1c01f24509cb"
      },
      "source": [
        "# Top 5 países com mais doses aplicadas por 100 hábitantes\n",
        "df.loc[:,[\"COUNTRY\",\"TOTAL_VACCINATIONS_PER100\"]].sort_values(by=\"TOTAL_VACCINATIONS_PER100\",\n",
        "                                                       ascending=False).head()"
      ],
      "execution_count": 133,
      "outputs": [
        {
          "output_type": "execute_result",
          "data": {
            "text/html": [
              "<div>\n",
              "<style scoped>\n",
              "    .dataframe tbody tr th:only-of-type {\n",
              "        vertical-align: middle;\n",
              "    }\n",
              "\n",
              "    .dataframe tbody tr th {\n",
              "        vertical-align: top;\n",
              "    }\n",
              "\n",
              "    .dataframe thead th {\n",
              "        text-align: right;\n",
              "    }\n",
              "</style>\n",
              "<table border=\"1\" class=\"dataframe\">\n",
              "  <thead>\n",
              "    <tr style=\"text-align: right;\">\n",
              "      <th></th>\n",
              "      <th>COUNTRY</th>\n",
              "      <th>TOTAL_VACCINATIONS_PER100</th>\n",
              "    </tr>\n",
              "  </thead>\n",
              "  <tbody>\n",
              "    <tr>\n",
              "      <th>78</th>\n",
              "      <td>Gibraltar</td>\n",
              "      <td>233.21</td>\n",
              "    </tr>\n",
              "    <tr>\n",
              "      <th>215</th>\n",
              "      <td>United Arab Emirates</td>\n",
              "      <td>179.09</td>\n",
              "    </tr>\n",
              "    <tr>\n",
              "      <th>125</th>\n",
              "      <td>Malta</td>\n",
              "      <td>153.69</td>\n",
              "    </tr>\n",
              "    <tr>\n",
              "      <th>85</th>\n",
              "      <td>Guernsey</td>\n",
              "      <td>152.10</td>\n",
              "    </tr>\n",
              "    <tr>\n",
              "      <th>38</th>\n",
              "      <td>Cayman Islands</td>\n",
              "      <td>151.60</td>\n",
              "    </tr>\n",
              "  </tbody>\n",
              "</table>\n",
              "</div>"
            ],
            "text/plain": [
              "                  COUNTRY  TOTAL_VACCINATIONS_PER100\n",
              "78              Gibraltar                     233.21\n",
              "215  United Arab Emirates                     179.09\n",
              "125                 Malta                     153.69\n",
              "85               Guernsey                     152.10\n",
              "38         Cayman Islands                     151.60"
            ]
          },
          "metadata": {},
          "execution_count": 133
        }
      ]
    },
    {
      "cell_type": "code",
      "metadata": {
        "colab": {
          "base_uri": "https://localhost:8080/",
          "height": 204
        },
        "id": "pknF8QeWSPNH",
        "outputId": "11f7ad08-c911-40f6-9403-adcabf1dc3d5"
      },
      "source": [
        "# Top 5 países com mais aplicações de primeira dose\n",
        "df.loc[:,[\"COUNTRY\",\"PERSONS_VACCINATED_1PLUS_DOSE\"]].sort_values(by=\"PERSONS_VACCINATED_1PLUS_DOSE\",\n",
        "                                                       ascending=False).head()"
      ],
      "execution_count": 134,
      "outputs": [
        {
          "output_type": "execute_result",
          "data": {
            "text/html": [
              "<div>\n",
              "<style scoped>\n",
              "    .dataframe tbody tr th:only-of-type {\n",
              "        vertical-align: middle;\n",
              "    }\n",
              "\n",
              "    .dataframe tbody tr th {\n",
              "        vertical-align: top;\n",
              "    }\n",
              "\n",
              "    .dataframe thead th {\n",
              "        text-align: right;\n",
              "    }\n",
              "</style>\n",
              "<table border=\"1\" class=\"dataframe\">\n",
              "  <thead>\n",
              "    <tr style=\"text-align: right;\">\n",
              "      <th></th>\n",
              "      <th>COUNTRY</th>\n",
              "      <th>PERSONS_VACCINATED_1PLUS_DOSE</th>\n",
              "    </tr>\n",
              "  </thead>\n",
              "  <tbody>\n",
              "    <tr>\n",
              "      <th>93</th>\n",
              "      <td>India</td>\n",
              "      <td>435720056.00</td>\n",
              "    </tr>\n",
              "    <tr>\n",
              "      <th>217</th>\n",
              "      <td>United States of America</td>\n",
              "      <td>205108778.00</td>\n",
              "    </tr>\n",
              "    <tr>\n",
              "      <th>29</th>\n",
              "      <td>Brazil</td>\n",
              "      <td>119868047.00</td>\n",
              "    </tr>\n",
              "    <tr>\n",
              "      <th>130</th>\n",
              "      <td>Mexico</td>\n",
              "      <td>55643238.00</td>\n",
              "    </tr>\n",
              "    <tr>\n",
              "      <th>94</th>\n",
              "      <td>Indonesia</td>\n",
              "      <td>55100253.00</td>\n",
              "    </tr>\n",
              "  </tbody>\n",
              "</table>\n",
              "</div>"
            ],
            "text/plain": [
              "                      COUNTRY  PERSONS_VACCINATED_1PLUS_DOSE\n",
              "93                      India                   435720056.00\n",
              "217  United States of America                   205108778.00\n",
              "29                     Brazil                   119868047.00\n",
              "130                    Mexico                    55643238.00\n",
              "94                  Indonesia                    55100253.00"
            ]
          },
          "metadata": {},
          "execution_count": 134
        }
      ]
    },
    {
      "cell_type": "code",
      "metadata": {
        "colab": {
          "base_uri": "https://localhost:8080/",
          "height": 204
        },
        "id": "he8QT2l7SyLk",
        "outputId": "d0905823-36a8-4b8c-fa18-8b141246d597"
      },
      "source": [
        "# Top 5 países com mais pessoas completamente vacinadas\n",
        "df.loc[:,[\"COUNTRY\",\"PERSONS_FULLY_VACCINATED\"]].sort_values(by=\"PERSONS_FULLY_VACCINATED\",\n",
        "                                                       ascending=False).head()"
      ],
      "execution_count": 135,
      "outputs": [
        {
          "output_type": "execute_result",
          "data": {
            "text/html": [
              "<div>\n",
              "<style scoped>\n",
              "    .dataframe tbody tr th:only-of-type {\n",
              "        vertical-align: middle;\n",
              "    }\n",
              "\n",
              "    .dataframe tbody tr th {\n",
              "        vertical-align: top;\n",
              "    }\n",
              "\n",
              "    .dataframe thead th {\n",
              "        text-align: right;\n",
              "    }\n",
              "</style>\n",
              "<table border=\"1\" class=\"dataframe\">\n",
              "  <thead>\n",
              "    <tr style=\"text-align: right;\">\n",
              "      <th></th>\n",
              "      <th>COUNTRY</th>\n",
              "      <th>PERSONS_FULLY_VACCINATED</th>\n",
              "    </tr>\n",
              "  </thead>\n",
              "  <tbody>\n",
              "    <tr>\n",
              "      <th>217</th>\n",
              "      <td>United States of America</td>\n",
              "      <td>170138563.00</td>\n",
              "    </tr>\n",
              "    <tr>\n",
              "      <th>93</th>\n",
              "      <td>India</td>\n",
              "      <td>124931974.00</td>\n",
              "    </tr>\n",
              "    <tr>\n",
              "      <th>29</th>\n",
              "      <td>Brazil</td>\n",
              "      <td>50438096.00</td>\n",
              "    </tr>\n",
              "    <tr>\n",
              "      <th>76</th>\n",
              "      <td>Germany</td>\n",
              "      <td>48860871.00</td>\n",
              "    </tr>\n",
              "    <tr>\n",
              "      <th>202</th>\n",
              "      <td>The United Kingdom</td>\n",
              "      <td>40703769.00</td>\n",
              "    </tr>\n",
              "  </tbody>\n",
              "</table>\n",
              "</div>"
            ],
            "text/plain": [
              "                      COUNTRY  PERSONS_FULLY_VACCINATED\n",
              "217  United States of America              170138563.00\n",
              "93                      India              124931974.00\n",
              "29                     Brazil               50438096.00\n",
              "76                    Germany               48860871.00\n",
              "202        The United Kingdom               40703769.00"
            ]
          },
          "metadata": {},
          "execution_count": 135
        }
      ]
    }
  ]
}